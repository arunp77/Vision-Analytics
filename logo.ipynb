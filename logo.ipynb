{
 "cells": [
  {
   "cell_type": "code",
   "execution_count": 3,
   "metadata": {},
   "outputs": [
    {
     "name": "stderr",
     "output_type": "stream",
     "text": [
      "/var/folders/70/mjvqrvwx3bq1l13s7hb_pm4h0000gn/T/ipykernel_9811/3634299345.py:21: DeprecationWarning: textsize is deprecated and will be removed in Pillow 10 (2023-07-01). Use textbbox or textlength instead.\n",
      "  text_width, text_height = draw.textsize(text, font=font)\n"
     ]
    }
   ],
   "source": [
    "from PIL import Image, ImageDraw, ImageFont\n",
    "\n",
    "# Set the dimensions and background color of the logo\n",
    "width = 500\n",
    "height = 500\n",
    "background_color = (255, 255, 255)  # RGB values for white\n",
    "\n",
    "# Create a blank image with the specified dimensions and background color\n",
    "logo = Image.new('RGB', (width, height), background_color)\n",
    "\n",
    "# Create a draw object to draw on the image\n",
    "draw = ImageDraw.Draw(logo)\n",
    "\n",
    "# Set the text and font properties\n",
    "text = \"Vision analytics\"\n",
    "font_size = 60\n",
    "font_color = (0, 0, 0)  # RGB values for black\n",
    "font = ImageFont.truetype('Arial.ttf', font_size)\n",
    "\n",
    "# Calculate the position to center the text on the logo\n",
    "text_width, text_height = draw.textsize(text, font=font)\n",
    "x = (width - text_width) // 2\n",
    "y = (height - text_height) // 2\n",
    "\n",
    "# Draw the text on the logo\n",
    "draw.text((x, y), text, font=font, fill=font_color)\n",
    "\n",
    "# Save the logo image to a file\n",
    "logo.save('logo.png')\n"
   ]
  },
  {
   "cell_type": "code",
   "execution_count": 2,
   "metadata": {},
   "outputs": [
    {
     "data": {
      "text/plain": [
       "'/Users/arunp77/Documents/Data-science/vision-coding'"
      ]
     },
     "execution_count": 2,
     "metadata": {},
     "output_type": "execute_result"
    }
   ],
   "source": [
    "%pwd"
   ]
  },
  {
   "cell_type": "code",
   "execution_count": 9,
   "metadata": {},
   "outputs": [
    {
     "name": "stderr",
     "output_type": "stream",
     "text": [
      "/var/folders/70/mjvqrvwx3bq1l13s7hb_pm4h0000gn/T/ipykernel_9862/3515295064.py:22: DeprecationWarning: textsize is deprecated and will be removed in Pillow 10 (2023-07-01). Use textbbox or textlength instead.\n",
      "  text_width, text_height = draw.textsize(text, font=font)\n"
     ]
    }
   ],
   "source": [
    "from PIL import Image, ImageDraw, ImageFont\n",
    "\n",
    "# Set the dimensions and background color of the logo\n",
    "width = 500\n",
    "height = 500\n",
    "background_color = (255, 255, 255)  # RGB values for white\n",
    "\n",
    "# Create a blank image with the specified dimensions and background color\n",
    "logo = Image.new('RGB', (width, height), background_color)\n",
    "\n",
    "# Create a draw object to draw on the image\n",
    "draw = ImageDraw.Draw(logo)\n",
    "\n",
    "# Set the text and font properties\n",
    "text = \"Vision Analytics\"\n",
    "font_size = 60\n",
    "font_color = (0, 0, 128)  # RGB values for dark blue\n",
    "font_path = 'Phosphate-Font/PhosphateRR Solid/PhosphateRR Solid.ttf'  # Replace with the correct path to the font file\n",
    "font = ImageFont.truetype(font_path, font_size)\n",
    "\n",
    "# Calculate the position to center the text on the logo\n",
    "text_width, text_height = draw.textsize(text, font=font)\n",
    "x = (width - text_width) // 2\n",
    "y = (height - text_height) // 2\n",
    "\n",
    "# Draw the text on the logo\n",
    "draw.text((x, y), text, font=font, fill=font_color)\n",
    "\n",
    "# Save the logo image to a file\n",
    "logo.save('logo.png')\n"
   ]
  },
  {
   "cell_type": "code",
   "execution_count": 19,
   "metadata": {},
   "outputs": [
    {
     "name": "stderr",
     "output_type": "stream",
     "text": [
      "/var/folders/70/mjvqrvwx3bq1l13s7hb_pm4h0000gn/T/ipykernel_9862/1962165151.py:22: DeprecationWarning: textsize is deprecated and will be removed in Pillow 10 (2023-07-01). Use textbbox or textlength instead.\n",
      "  text_width, text_height = draw.textsize(text, font=font)\n"
     ]
    }
   ],
   "source": [
    "from PIL import Image, ImageDraw, ImageFont\n",
    "\n",
    "# Set the dimensions and background color of the logo\n",
    "width = 500\n",
    "height = 500\n",
    "background_color = (255, 255, 255)  # RGB values for white\n",
    "\n",
    "# Create a blank image with the specified dimensions and background color\n",
    "logo = Image.new('RGB', (width, height), background_color)\n",
    "\n",
    "# Create a draw object to draw on the image\n",
    "draw = ImageDraw.Draw(logo)\n",
    "\n",
    "# Set the text and font properties\n",
    "text = \"Vision Analytics\"\n",
    "font_size = 60\n",
    "font_color = (0, 0, 128)  # RGB values for dark blue\n",
    "font_path = 'Phosphate-Font/PhosphateRR Solid/PhosphateRR Solid.ttf'  # Replace with the correct path to the font file\n",
    "font = ImageFont.truetype(font_path, font_size)\n",
    "\n",
    "# Calculate the position to center the text on the logo\n",
    "text_width, text_height = draw.textsize(text, font=font)\n",
    "x = (width - text_width) // 2\n",
    "y = (height - text_height) // 2\n",
    "\n",
    "# Draw the text on the logo\n",
    "draw.text((x, y), text, font=font, fill=font_color)\n",
    "\n",
    "# Load the eye-shaped icon image and resize it\n",
    "icon_path = 'images/eye.png'  # Replace with the path to your eye-shaped icon image\n",
    "eye_icon = Image.open(icon_path).convert('RGBA')\n",
    "eye_icon_size = (150, 150)\n",
    "eye_icon = eye_icon.resize(eye_icon_size)\n",
    "\n",
    "# Create a new image with an alpha channel for the icon\n",
    "icon_with_alpha = Image.new('RGBA', (width, height))\n",
    "icon_with_alpha.paste(eye_icon, ((width - eye_icon_size[0]) // 2, (height - eye_icon_size[1]) // 2), mask=eye_icon)\n",
    "\n",
    "# Paste the eye icon onto the logo\n",
    "logo.paste(icon_with_alpha, (0, 0), icon_with_alpha)\n",
    "\n",
    "# Save the logo image to a file\n",
    "logo.save('logo.png')\n"
   ]
  },
  {
   "cell_type": "code",
   "execution_count": 20,
   "metadata": {},
   "outputs": [
    {
     "name": "stderr",
     "output_type": "stream",
     "text": [
      "/var/folders/70/mjvqrvwx3bq1l13s7hb_pm4h0000gn/T/ipykernel_9862/223971513.py:22: DeprecationWarning: textsize is deprecated and will be removed in Pillow 10 (2023-07-01). Use textbbox or textlength instead.\n",
      "  text_width, text_height = draw.textsize(text, font=font)\n"
     ]
    }
   ],
   "source": [
    "from PIL import Image, ImageDraw, ImageFont\n",
    "\n",
    "# Set the dimensions and background color of the logo\n",
    "width = 500\n",
    "height = 500\n",
    "background_color = (255, 255, 255)  # RGB values for white\n",
    "\n",
    "# Create a blank image with the specified dimensions and background color\n",
    "logo = Image.new('RGB', (width, height), background_color)\n",
    "\n",
    "# Create a draw object to draw on the image\n",
    "draw = ImageDraw.Draw(logo)\n",
    "\n",
    "# Set the text and font properties\n",
    "text = \"Vision Analytics\"\n",
    "font_size = 60\n",
    "font_color = (0, 0, 128)  # RGB values for dark blue\n",
    "font_path = 'Phosphate-Font/PhosphateRR Solid/PhosphateRR Solid.ttf'  # Replace with the correct path to the font file\n",
    "font = ImageFont.truetype(font_path, font_size)\n",
    "\n",
    "# Calculate the size of the text\n",
    "text_width, text_height = draw.textsize(text, font=font)\n",
    "\n",
    "# Calculate the position to place the eye icon\n",
    "eye_icon_size = (150, 150)\n",
    "eye_icon_x = (width - eye_icon_size[0] - text_width) // 2\n",
    "eye_icon_y = (height - eye_icon_size[1]) // 2\n",
    "\n",
    "# Load the eye-shaped icon image and resize it\n",
    "eye_icon_path = 'images/eye.png'  # Replace with the path to your eye-shaped icon image\n",
    "eye_icon = Image.open(eye_icon_path).convert('RGBA')\n",
    "eye_icon = eye_icon.resize(eye_icon_size)\n",
    "\n",
    "# Paste the eye icon onto the logo\n",
    "logo.paste(eye_icon, (eye_icon_x, eye_icon_y), eye_icon)\n",
    "\n",
    "# Calculate the position to place the text\n",
    "text_x = eye_icon_x + eye_icon_size[0]\n",
    "text_y = (height - text_height) // 2\n",
    "\n",
    "# Draw the text on the logo\n",
    "draw.text((text_x, text_y), text, font=font, fill=font_color)\n",
    "\n",
    "# Save the logo image to a file\n",
    "logo.save('logo1.png')\n"
   ]
  },
  {
   "cell_type": "code",
   "execution_count": 21,
   "metadata": {},
   "outputs": [
    {
     "name": "stderr",
     "output_type": "stream",
     "text": [
      "/var/folders/70/mjvqrvwx3bq1l13s7hb_pm4h0000gn/T/ipykernel_9862/1952153589.py:23: DeprecationWarning: textsize is deprecated and will be removed in Pillow 10 (2023-07-01). Use textbbox or textlength instead.\n",
      "  text1_width, text1_height = draw.textsize(text1, font=font)\n",
      "/var/folders/70/mjvqrvwx3bq1l13s7hb_pm4h0000gn/T/ipykernel_9862/1952153589.py:24: DeprecationWarning: textsize is deprecated and will be removed in Pillow 10 (2023-07-01). Use textbbox or textlength instead.\n",
      "  text2_width, text2_height = draw.textsize(text2, font=font)\n"
     ]
    }
   ],
   "source": [
    "from PIL import Image, ImageDraw, ImageFont\n",
    "\n",
    "# Set the dimensions and background color of the logo\n",
    "width = 500\n",
    "height = 500\n",
    "background_color = (255, 255, 255)  # RGB values for white\n",
    "\n",
    "# Create a blank image with the specified dimensions and background color\n",
    "logo = Image.new('RGB', (width, height), background_color)\n",
    "\n",
    "# Create a draw object to draw on the image\n",
    "draw = ImageDraw.Draw(logo)\n",
    "\n",
    "# Set the text and font properties\n",
    "text1 = \"Vision\"\n",
    "text2 = \"Analytics\"\n",
    "font_size = 60\n",
    "font_color = (0, 0, 128)  # RGB values for dark blue\n",
    "font_path = 'Phosphate-Font/PhosphateRR Solid/PhosphateRR Solid.ttf'  # Replace with the correct path to the font file\n",
    "font = ImageFont.truetype(font_path, font_size)\n",
    "\n",
    "# Calculate the size of the text\n",
    "text1_width, text1_height = draw.textsize(text1, font=font)\n",
    "text2_width, text2_height = draw.textsize(text2, font=font)\n",
    "\n",
    "# Calculate the position to place the text\n",
    "text1_x = (width - text1_width) // 2\n",
    "text1_y = (height - text1_height - text2_height) // 2\n",
    "text2_x = (width - text2_width) // 2\n",
    "text2_y = text1_y + text1_height\n",
    "\n",
    "# Draw the text on the logo\n",
    "draw.text((text1_x, text1_y), text1, font=font, fill=font_color)\n",
    "draw.text((text2_x, text2_y), text2, font=font, fill=font_color)\n",
    "\n",
    "# Save the logo image to a file\n",
    "logo.save('logo2.png')\n"
   ]
  },
  {
   "cell_type": "code",
   "execution_count": 25,
   "metadata": {},
   "outputs": [
    {
     "name": "stderr",
     "output_type": "stream",
     "text": [
      "/var/folders/70/mjvqrvwx3bq1l13s7hb_pm4h0000gn/T/ipykernel_9862/724424573.py:23: DeprecationWarning: textsize is deprecated and will be removed in Pillow 10 (2023-07-01). Use textbbox or textlength instead.\n",
      "  text1_width, text1_height = draw.textsize(text1, font=font)\n",
      "/var/folders/70/mjvqrvwx3bq1l13s7hb_pm4h0000gn/T/ipykernel_9862/724424573.py:24: DeprecationWarning: textsize is deprecated and will be removed in Pillow 10 (2023-07-01). Use textbbox or textlength instead.\n",
      "  text2_width, text2_height = draw.textsize(text2, font=font)\n"
     ]
    }
   ],
   "source": []
  },
  {
   "cell_type": "code",
   "execution_count": 30,
   "metadata": {},
   "outputs": [
    {
     "name": "stderr",
     "output_type": "stream",
     "text": [
      "/var/folders/70/mjvqrvwx3bq1l13s7hb_pm4h0000gn/T/ipykernel_9862/1742208170.py:23: DeprecationWarning: textsize is deprecated and will be removed in Pillow 10 (2023-07-01). Use textbbox or textlength instead.\n",
      "  text1_width, text1_height = draw.textsize(text1, font=font)\n",
      "/var/folders/70/mjvqrvwx3bq1l13s7hb_pm4h0000gn/T/ipykernel_9862/1742208170.py:24: DeprecationWarning: textsize is deprecated and will be removed in Pillow 10 (2023-07-01). Use textbbox or textlength instead.\n",
      "  text2_width, text2_height = draw.textsize(text2, font=font)\n"
     ]
    }
   ],
   "source": [
    "from PIL import Image, ImageDraw, ImageFont\n",
    "\n",
    "# Set the dimensions and background color of the logo\n",
    "width = 800\n",
    "height = 500\n",
    "background_color = (255, 255, 255)  # RGB values for white\n",
    "\n",
    "# Create a blank image with the specified dimensions and background color\n",
    "logo = Image.new('RGB', (width, height), background_color)\n",
    "\n",
    "# Create a draw object to draw on the image\n",
    "draw = ImageDraw.Draw(logo)\n",
    "\n",
    "# Set the text and font properties\n",
    "text1 = \"Vision\"\n",
    "text2 = \"Analytics\"\n",
    "font_size = 60\n",
    "font_color = (0, 0, 128)  # RGB values for dark blue\n",
    "font_path = 'Phosphate-Font/PhosphateRR Solid/PhosphateRR Solid.ttf'  # Replace with the correct path to the font file\n",
    "font = ImageFont.truetype(font_path, font_size)\n",
    "\n",
    "# Calculate the size of the text\n",
    "text1_width, text1_height = draw.textsize(text1, font=font)\n",
    "text2_width, text2_height = draw.textsize(text2, font=font)\n",
    "\n",
    "# Calculate the position to place the text\n",
    "text_y = (height - (text1_height + text2_height)) // 2\n",
    "text_x = width // 2 + 50  # Adjust the value to add space between the eye and text\n",
    "\n",
    "# Draw the text on the logo\n",
    "draw.text((text_x, text_y), text1, font=font, fill=font_color)\n",
    "draw.text((text_x, text_y + text1_height + 20), text2, font=font, fill=font_color)  # Adjust the value for spacing\n",
    "\n",
    "# Load the eye-shaped icon image\n",
    "eye_icon_path = 'images/eye.png'  # Replace with the path to your eye-shaped icon image\n",
    "eye_icon = Image.open(eye_icon_path).convert('RGBA')\n",
    "\n",
    "# Resize the eye icon\n",
    "eye_icon_size = (200, 200)\n",
    "eye_icon = eye_icon.resize(eye_icon_size)\n",
    "\n",
    "# Calculate the position to place the eye icon\n",
    "eye_icon_x = 50  # Adjust the value to position the eye icon on the left\n",
    "eye_icon_y = (height - eye_icon_size[1]) // 2\n",
    "\n",
    "# Paste the eye icon onto the logo\n",
    "logo.paste(eye_icon, (eye_icon_x, eye_icon_y), eye_icon)\n",
    "\n",
    "# Save the logo image to a file\n",
    "logo.save('logo2.png')\n"
   ]
  },
  {
   "cell_type": "code",
   "execution_count": 31,
   "metadata": {},
   "outputs": [
    {
     "name": "stderr",
     "output_type": "stream",
     "text": [
      "/var/folders/70/mjvqrvwx3bq1l13s7hb_pm4h0000gn/T/ipykernel_9862/1742208170.py:23: DeprecationWarning: textsize is deprecated and will be removed in Pillow 10 (2023-07-01). Use textbbox or textlength instead.\n",
      "  text1_width, text1_height = draw.textsize(text1, font=font)\n",
      "/var/folders/70/mjvqrvwx3bq1l13s7hb_pm4h0000gn/T/ipykernel_9862/1742208170.py:24: DeprecationWarning: textsize is deprecated and will be removed in Pillow 10 (2023-07-01). Use textbbox or textlength instead.\n",
      "  text2_width, text2_height = draw.textsize(text2, font=font)\n"
     ]
    }
   ],
   "source": [
    "from PIL import Image, ImageDraw, ImageFont\n",
    "\n",
    "# Set the dimensions and background color of the logo\n",
    "width = 800\n",
    "height = 500\n",
    "background_color = (255, 255, 255)  # RGB values for white\n",
    "\n",
    "# Create a blank image with the specified dimensions and background color\n",
    "logo = Image.new('RGB', (width, height), background_color)\n",
    "\n",
    "# Create a draw object to draw on the image\n",
    "draw = ImageDraw.Draw(logo)\n",
    "\n",
    "# Set the text and font properties\n",
    "text1 = \"Vision\"\n",
    "text2 = \"Analytics\"\n",
    "font_size = 60\n",
    "font_color = (0, 0, 128)  # RGB values for dark blue\n",
    "font_path = 'Phosphate-Font/PhosphateRR Solid/PhosphateRR Solid.ttf'  # Replace with the correct path to the font file\n",
    "font = ImageFont.truetype(font_path, font_size)\n",
    "\n",
    "# Calculate the size of the text\n",
    "text1_width, text1_height = draw.textsize(text1, font=font)\n",
    "text2_width, text2_height = draw.textsize(text2, font=font)\n",
    "\n",
    "# Calculate the position to place the text\n",
    "text_y = (height - (text1_height + text2_height)) // 2\n",
    "text_x = width // 2 + 50  # Adjust the value to add space between the eye and text\n",
    "\n",
    "# Draw the text on the logo\n",
    "draw.text((text_x, text_y), text1, font=font, fill=font_color)\n",
    "draw.text((text_x, text_y + text1_height + 20), text2, font=font, fill=font_color)  # Adjust the value for spacing\n",
    "\n",
    "# Load the eye-shaped icon image\n",
    "eye_icon_path = 'images/eye.png'  # Replace with the path to your eye-shaped icon image\n",
    "eye_icon = Image.open(eye_icon_path).convert('RGBA')\n",
    "\n",
    "# Resize the eye icon\n",
    "eye_icon_size = (200, 200)\n",
    "eye_icon = eye_icon.resize(eye_icon_size)\n",
    "\n",
    "# Calculate the position to place the eye icon\n",
    "eye_icon_x = 50  # Adjust the value to position the eye icon on the left\n",
    "eye_icon_y = (height - eye_icon_size[1]) // 2\n",
    "\n",
    "# Paste the eye icon onto the logo\n",
    "logo.paste(eye_icon, (eye_icon_x, eye_icon_y), eye_icon)\n",
    "\n",
    "# Save the logo image to a file\n",
    "logo.save('logo2.png')\n"
   ]
  },
  {
   "cell_type": "code",
   "execution_count": null,
   "metadata": {},
   "outputs": [],
   "source": []
  }
 ],
 "metadata": {
  "kernelspec": {
   "display_name": "Python 3",
   "language": "python",
   "name": "python3"
  },
  "language_info": {
   "codemirror_mode": {
    "name": "ipython",
    "version": 3
   },
   "file_extension": ".py",
   "mimetype": "text/x-python",
   "name": "python",
   "nbconvert_exporter": "python",
   "pygments_lexer": "ipython3",
   "version": "3.11.3"
  },
  "orig_nbformat": 4
 },
 "nbformat": 4,
 "nbformat_minor": 2
}
